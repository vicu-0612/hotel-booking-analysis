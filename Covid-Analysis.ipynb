{
 "cells": [
  {
   "cell_type": "markdown",
   "id": "34f43d9a",
   "metadata": {},
   "source": [
    "![alt text](logo.png \"Title\")"
   ]
  },
  {
   "cell_type": "markdown",
   "id": "f5ebb85d",
   "metadata": {},
   "source": [
    "# Analyze Covid-19 Situation in Vietnam (7/7/2021)\n",
    "This data is published in\n",
    "https://data.opendevelopmentmekong.net//dataset/coronavirus-covid-19-cases-in-vietnam"
   ]
  },
  {
   "cell_type": "markdown",
   "id": "d2c2ffc5",
   "metadata": {},
   "source": [
    "**Table of Contents**\n",
    "* [Import modules](#1)\n",
    "* [Read covid-19 data](#2)\n",
    "* [Summary information about data](#3)\n",
    "* [Which age group have are more likely to infect covid?](#4)\n",
    "* [Who are more likely to infect covid? Male or Female?](#5)\n",
    "* [Are there any foreigners infected by covid-19 in Vietnam?](#6)\n",
    "* [How many patients are recovered?](#7)\n",
    "* [Which location is infected the most by covid-19 in Vietnam?](#8)"
   ]
  },
  {
   "cell_type": "markdown",
   "id": "654a15fb",
   "metadata": {},
   "source": [
    "<a id =\"1\"></a>\n",
    "#### ***1. Import modules***"
   ]
  },
  {
   "cell_type": "code",
   "execution_count": 1,
   "id": "9d8dc738",
   "metadata": {},
   "outputs": [],
   "source": [
    "import pandas as pd\n",
    "import matplotlib.pyplot as plt\n",
    "import seaborn as sns\n",
    "sns.set()\n",
    "plt.rcParams['font.family'] = \"serif\""
   ]
  },
  {
   "cell_type": "markdown",
   "id": "c554d772",
   "metadata": {},
   "source": [
    "<a id =\"2\"></a>\n",
    "#### ***2. Read covid-19 data***"
   ]
  },
  {
   "cell_type": "code",
   "execution_count": 2,
   "id": "3883216e",
   "metadata": {
    "scrolled": true
   },
   "outputs": [
    {
     "data": {
      "text/html": [
       "<div>\n",
       "<style scoped>\n",
       "    .dataframe tbody tr th:only-of-type {\n",
       "        vertical-align: middle;\n",
       "    }\n",
       "\n",
       "    .dataframe tbody tr th {\n",
       "        vertical-align: top;\n",
       "    }\n",
       "\n",
       "    .dataframe thead th {\n",
       "        text-align: right;\n",
       "    }\n",
       "</style>\n",
       "<table border=\"1\" class=\"dataframe\">\n",
       "  <thead>\n",
       "    <tr style=\"text-align: right;\">\n",
       "      <th></th>\n",
       "      <th>ID</th>\n",
       "      <th>Patient</th>\n",
       "      <th>Age</th>\n",
       "      <th>Gender</th>\n",
       "      <th>Location</th>\n",
       "      <th>Status</th>\n",
       "      <th>Nationality</th>\n",
       "    </tr>\n",
       "  </thead>\n",
       "  <tbody>\n",
       "    <tr>\n",
       "      <th>0</th>\n",
       "      <td>1</td>\n",
       "      <td>BN1</td>\n",
       "      <td>0</td>\n",
       "      <td>Male</td>\n",
       "      <td>Ho Chi Minh</td>\n",
       "      <td>Recovered</td>\n",
       "      <td>Chinese</td>\n",
       "    </tr>\n",
       "    <tr>\n",
       "      <th>1</th>\n",
       "      <td>2</td>\n",
       "      <td>BN2</td>\n",
       "      <td>0</td>\n",
       "      <td>Male</td>\n",
       "      <td>Ho Chi Minh</td>\n",
       "      <td>Recovered</td>\n",
       "      <td>Chinese</td>\n",
       "    </tr>\n",
       "    <tr>\n",
       "      <th>2</th>\n",
       "      <td>3</td>\n",
       "      <td>BN3</td>\n",
       "      <td>0</td>\n",
       "      <td>Female</td>\n",
       "      <td>Thanh Hoa</td>\n",
       "      <td>Recovered</td>\n",
       "      <td>Vietnamese</td>\n",
       "    </tr>\n",
       "    <tr>\n",
       "      <th>3</th>\n",
       "      <td>4</td>\n",
       "      <td>BN4</td>\n",
       "      <td>0</td>\n",
       "      <td>Male</td>\n",
       "      <td>Vinh Phuc</td>\n",
       "      <td>Recovered</td>\n",
       "      <td>Vietnamese</td>\n",
       "    </tr>\n",
       "    <tr>\n",
       "      <th>4</th>\n",
       "      <td>5</td>\n",
       "      <td>BN5</td>\n",
       "      <td>0</td>\n",
       "      <td>Female</td>\n",
       "      <td>Vinh Phuc</td>\n",
       "      <td>Recovered</td>\n",
       "      <td>Vietnamese</td>\n",
       "    </tr>\n",
       "  </tbody>\n",
       "</table>\n",
       "</div>"
      ],
      "text/plain": [
       "   ID Patient  Age  Gender     Location     Status Nationality\n",
       "0   1     BN1    0    Male  Ho Chi Minh  Recovered     Chinese\n",
       "1   2     BN2    0    Male  Ho Chi Minh  Recovered     Chinese\n",
       "2   3     BN3    0  Female    Thanh Hoa  Recovered  Vietnamese\n",
       "3   4     BN4    0    Male    Vinh Phuc  Recovered  Vietnamese\n",
       "4   5     BN5    0  Female    Vinh Phuc  Recovered  Vietnamese"
      ]
     },
     "execution_count": 2,
     "metadata": {},
     "output_type": "execute_result"
    }
   ],
   "source": [
    "data = pd.read_csv(\"datasets/patient_information.csv\")\n",
    "data.head()"
   ]
  },
  {
   "cell_type": "markdown",
   "id": "28f2061f",
   "metadata": {},
   "source": [
    "<a id =\"3\"></a>\n",
    "#### ***3. Summary information about data***"
   ]
  },
  {
   "cell_type": "code",
   "execution_count": 3,
   "id": "0f77586f",
   "metadata": {
    "scrolled": true
   },
   "outputs": [
    {
     "name": "stdout",
     "output_type": "stream",
     "text": [
      "<class 'pandas.core.frame.DataFrame'>\n",
      "RangeIndex: 19933 entries, 0 to 19932\n",
      "Data columns (total 7 columns):\n",
      " #   Column       Non-Null Count  Dtype \n",
      "---  ------       --------------  ----- \n",
      " 0   ID           19933 non-null  int64 \n",
      " 1   Patient      19933 non-null  object\n",
      " 2   Age          19933 non-null  int64 \n",
      " 3   Gender       19931 non-null  object\n",
      " 4   Location     19933 non-null  object\n",
      " 5   Status       19926 non-null  object\n",
      " 6   Nationality  19926 non-null  object\n",
      "dtypes: int64(2), object(5)\n",
      "memory usage: 1.1+ MB\n"
     ]
    }
   ],
   "source": [
    "data.info()"
   ]
  },
  {
   "cell_type": "code",
   "execution_count": 4,
   "id": "81cbe0b0",
   "metadata": {},
   "outputs": [
    {
     "data": {
      "text/plain": [
       "ID             0\n",
       "Patient        0\n",
       "Age            0\n",
       "Gender         2\n",
       "Location       0\n",
       "Status         7\n",
       "Nationality    7\n",
       "dtype: int64"
      ]
     },
     "execution_count": 4,
     "metadata": {},
     "output_type": "execute_result"
    }
   ],
   "source": [
    "data.isnull().sum()"
   ]
  },
  {
   "cell_type": "code",
   "execution_count": 5,
   "id": "a7c94d93",
   "metadata": {},
   "outputs": [
    {
     "data": {
      "text/html": [
       "<div>\n",
       "<style scoped>\n",
       "    .dataframe tbody tr th:only-of-type {\n",
       "        vertical-align: middle;\n",
       "    }\n",
       "\n",
       "    .dataframe tbody tr th {\n",
       "        vertical-align: top;\n",
       "    }\n",
       "\n",
       "    .dataframe thead th {\n",
       "        text-align: right;\n",
       "    }\n",
       "</style>\n",
       "<table border=\"1\" class=\"dataframe\">\n",
       "  <thead>\n",
       "    <tr style=\"text-align: right;\">\n",
       "      <th></th>\n",
       "      <th>ID</th>\n",
       "      <th>Age</th>\n",
       "    </tr>\n",
       "  </thead>\n",
       "  <tbody>\n",
       "    <tr>\n",
       "      <th>count</th>\n",
       "      <td>19933.000000</td>\n",
       "      <td>19933.000000</td>\n",
       "    </tr>\n",
       "    <tr>\n",
       "      <th>mean</th>\n",
       "      <td>9967.000000</td>\n",
       "      <td>25.770682</td>\n",
       "    </tr>\n",
       "    <tr>\n",
       "      <th>std</th>\n",
       "      <td>5754.305794</td>\n",
       "      <td>19.755185</td>\n",
       "    </tr>\n",
       "    <tr>\n",
       "      <th>min</th>\n",
       "      <td>1.000000</td>\n",
       "      <td>0.000000</td>\n",
       "    </tr>\n",
       "    <tr>\n",
       "      <th>25%</th>\n",
       "      <td>4984.000000</td>\n",
       "      <td>8.000000</td>\n",
       "    </tr>\n",
       "    <tr>\n",
       "      <th>50%</th>\n",
       "      <td>9967.000000</td>\n",
       "      <td>27.000000</td>\n",
       "    </tr>\n",
       "    <tr>\n",
       "      <th>75%</th>\n",
       "      <td>14950.000000</td>\n",
       "      <td>38.000000</td>\n",
       "    </tr>\n",
       "    <tr>\n",
       "      <th>max</th>\n",
       "      <td>19933.000000</td>\n",
       "      <td>450.000000</td>\n",
       "    </tr>\n",
       "  </tbody>\n",
       "</table>\n",
       "</div>"
      ],
      "text/plain": [
       "                 ID           Age\n",
       "count  19933.000000  19933.000000\n",
       "mean    9967.000000     25.770682\n",
       "std     5754.305794     19.755185\n",
       "min        1.000000      0.000000\n",
       "25%     4984.000000      8.000000\n",
       "50%     9967.000000     27.000000\n",
       "75%    14950.000000     38.000000\n",
       "max    19933.000000    450.000000"
      ]
     },
     "execution_count": 5,
     "metadata": {},
     "output_type": "execute_result"
    }
   ],
   "source": [
    "data.describe()"
   ]
  },
  {
   "cell_type": "code",
   "execution_count": 6,
   "id": "b7375c0d",
   "metadata": {},
   "outputs": [
    {
     "data": {
      "text/html": [
       "<div>\n",
       "<style scoped>\n",
       "    .dataframe tbody tr th:only-of-type {\n",
       "        vertical-align: middle;\n",
       "    }\n",
       "\n",
       "    .dataframe tbody tr th {\n",
       "        vertical-align: top;\n",
       "    }\n",
       "\n",
       "    .dataframe thead th {\n",
       "        text-align: right;\n",
       "    }\n",
       "</style>\n",
       "<table border=\"1\" class=\"dataframe\">\n",
       "  <thead>\n",
       "    <tr style=\"text-align: right;\">\n",
       "      <th></th>\n",
       "      <th>Patient</th>\n",
       "      <th>Gender</th>\n",
       "      <th>Location</th>\n",
       "      <th>Status</th>\n",
       "      <th>Nationality</th>\n",
       "    </tr>\n",
       "  </thead>\n",
       "  <tbody>\n",
       "    <tr>\n",
       "      <th>count</th>\n",
       "      <td>19933</td>\n",
       "      <td>19931</td>\n",
       "      <td>19933</td>\n",
       "      <td>19926</td>\n",
       "      <td>19926</td>\n",
       "    </tr>\n",
       "    <tr>\n",
       "      <th>unique</th>\n",
       "      <td>19933</td>\n",
       "      <td>3</td>\n",
       "      <td>59</td>\n",
       "      <td>4</td>\n",
       "      <td>47</td>\n",
       "    </tr>\n",
       "    <tr>\n",
       "      <th>top</th>\n",
       "      <td>BN2442</td>\n",
       "      <td>Not defined</td>\n",
       "      <td>Ho Chi Minh</td>\n",
       "      <td>Being treated</td>\n",
       "      <td>Vietnamese</td>\n",
       "    </tr>\n",
       "    <tr>\n",
       "      <th>freq</th>\n",
       "      <td>1</td>\n",
       "      <td>17158</td>\n",
       "      <td>6372</td>\n",
       "      <td>11810</td>\n",
       "      <td>19685</td>\n",
       "    </tr>\n",
       "  </tbody>\n",
       "</table>\n",
       "</div>"
      ],
      "text/plain": [
       "       Patient       Gender     Location         Status Nationality\n",
       "count    19933        19931        19933          19926       19926\n",
       "unique   19933            3           59              4          47\n",
       "top     BN2442  Not defined  Ho Chi Minh  Being treated  Vietnamese\n",
       "freq         1        17158         6372          11810       19685"
      ]
     },
     "execution_count": 6,
     "metadata": {},
     "output_type": "execute_result"
    }
   ],
   "source": [
    "data.describe(include= \"O\")"
   ]
  },
  {
   "cell_type": "markdown",
   "id": "f7cd5793",
   "metadata": {},
   "source": [
    "**Comment**:\n",
    "- 19933 patients so far\n",
    "- Missing values: Gender (2), Status (7), Nationality (7)\n",
    "- Noise in age -> detect noise and drop them\n",
    "- A lot of undefined gender\n",
    "- Hochiminh has the most patients (6372)\n",
    "- Being treated about 11810 patients\n",
    "- Has another nationality"
   ]
  },
  {
   "cell_type": "markdown",
   "id": "5641e109",
   "metadata": {},
   "source": [
    "<a id =\"4\"></a>\n",
    "#### ***4. Which age group have are more likely to infect covid?***"
   ]
  },
  {
   "cell_type": "code",
   "execution_count": 7,
   "id": "d6ccfc89",
   "metadata": {},
   "outputs": [],
   "source": [
    "# Clean data\n",
    "age_df = data[(data[\"Age\"] > 0) & (data[\"Age\"] <= 100)]"
   ]
  },
  {
   "cell_type": "code",
   "execution_count": 8,
   "id": "3d842d32",
   "metadata": {},
   "outputs": [
    {
     "data": {
      "image/png": "[encoded data removed]",
      "text/plain": [
       "<Figure size 1152x360 with 1 Axes>"
      ]
     },
     "metadata": {},
     "output_type": "display_data"
    }
   ],
   "source": [
    "# Age\n",
    "plt.figure(figsize= (16,5))\n",
    "plt.hist(x= age_df[\"Age\"], bins= [0, 18, 35, 50, 100], color= \"#E98580\")\n",
    "plt.title(\"Age\", fontsize= 20, loc= \"left\", pad= 25)\n",
    "plt.xticks(ticks= [0, 18, 35, 50, 100])\n",
    "plt.xlabel(\"Age\", labelpad=10)\n",
    "plt.ylabel(\"Frequency\", labelpad=10)\n",
    "plt.savefig(\"abc.png\")\n",
    "plt.show()"
   ]
  },
  {
   "cell_type": "code",
   "execution_count": 9,
   "id": "6aae6e69",
   "metadata": {},
   "outputs": [
    {
     "data": {
      "text/html": [
       "<div>\n",
       "<style scoped>\n",
       "    .dataframe tbody tr th:only-of-type {\n",
       "        vertical-align: middle;\n",
       "    }\n",
       "\n",
       "    .dataframe tbody tr th {\n",
       "        vertical-align: top;\n",
       "    }\n",
       "\n",
       "    .dataframe thead th {\n",
       "        text-align: right;\n",
       "    }\n",
       "</style>\n",
       "<table border=\"1\" class=\"dataframe\">\n",
       "  <thead>\n",
       "    <tr style=\"text-align: right;\">\n",
       "      <th></th>\n",
       "      <th>ID</th>\n",
       "      <th>Age</th>\n",
       "    </tr>\n",
       "  </thead>\n",
       "  <tbody>\n",
       "    <tr>\n",
       "      <th>count</th>\n",
       "      <td>15685.000000</td>\n",
       "      <td>15685.000000</td>\n",
       "    </tr>\n",
       "    <tr>\n",
       "      <th>mean</th>\n",
       "      <td>11796.509149</td>\n",
       "      <td>32.656487</td>\n",
       "    </tr>\n",
       "    <tr>\n",
       "      <th>std</th>\n",
       "      <td>4897.787716</td>\n",
       "      <td>15.401548</td>\n",
       "    </tr>\n",
       "    <tr>\n",
       "      <th>min</th>\n",
       "      <td>3034.000000</td>\n",
       "      <td>1.000000</td>\n",
       "    </tr>\n",
       "    <tr>\n",
       "      <th>5%</th>\n",
       "      <td>3921.200000</td>\n",
       "      <td>8.000000</td>\n",
       "    </tr>\n",
       "    <tr>\n",
       "      <th>50%</th>\n",
       "      <td>12082.000000</td>\n",
       "      <td>31.000000</td>\n",
       "    </tr>\n",
       "    <tr>\n",
       "      <th>95%</th>\n",
       "      <td>19147.800000</td>\n",
       "      <td>61.000000</td>\n",
       "    </tr>\n",
       "    <tr>\n",
       "      <th>max</th>\n",
       "      <td>19933.000000</td>\n",
       "      <td>99.000000</td>\n",
       "    </tr>\n",
       "  </tbody>\n",
       "</table>\n",
       "</div>"
      ],
      "text/plain": [
       "                 ID           Age\n",
       "count  15685.000000  15685.000000\n",
       "mean   11796.509149     32.656487\n",
       "std     4897.787716     15.401548\n",
       "min     3034.000000      1.000000\n",
       "5%      3921.200000      8.000000\n",
       "50%    12082.000000     31.000000\n",
       "95%    19147.800000     61.000000\n",
       "max    19933.000000     99.000000"
      ]
     },
     "execution_count": 9,
     "metadata": {},
     "output_type": "execute_result"
    }
   ],
   "source": [
    "age_df.describe(percentiles=[0.05, 0.95])"
   ]
  },
  {
   "cell_type": "markdown",
   "id": "4497e8e6",
   "metadata": {},
   "source": [
    "**Comment**: \n",
    "- Young aldults are more likely to infect covid than elderly people\n",
    "- About 5%, <8 years old\n",
    "- About 5%, >61 years old\n",
    "- Most around 32 years old"
   ]
  },
  {
   "cell_type": "markdown",
   "id": "4585024c",
   "metadata": {},
   "source": [
    "<a id =\"5\"></a>\n",
    "#### ***5. Who are more likely to infect covid? Male or Female?***"
   ]
  },
  {
   "cell_type": "code",
   "execution_count": 10,
   "id": "d963b797",
   "metadata": {
    "scrolled": false
   },
   "outputs": [
    {
     "data": {
      "image/png": "[encoded data removed]",
      "text/plain": [
       "<Figure size 1152x360 with 1 Axes>"
      ]
     },
     "metadata": {},
     "output_type": "display_data"
    }
   ],
   "source": [
    "gender_sr = data[\"Gender\"].dropna()\n",
    "gender_cnt = gender_sr.value_counts()\n",
    "\n",
    "# Gender\n",
    "plt.figure(figsize= (16,5))\n",
    "plt.bar(x= gender_cnt.index, height = gender_cnt, color= [\"#DF5E5E\", \"#E98580\", \"#FDD2BF\"])\n",
    "\n",
    "plt.title(\"Gender\", fontsize= 20, loc= \"left\", pad= 25)\n",
    "plt.ylabel(\"Frequency\", labelpad=10)\n",
    "plt.show()"
   ]
  },
  {
   "cell_type": "markdown",
   "id": "f8b780eb",
   "metadata": {},
   "source": [
    "**Comment**: \n",
    "- No information about who are more likely to infect covid because Not Defined is dominant\n"
   ]
  },
  {
   "cell_type": "markdown",
   "id": "2b88fa49",
   "metadata": {},
   "source": [
    "<a id =\"6\"></a>\n",
    "#### ***6. Are there any foreigners infected by covid-19 in Vietnam?***"
   ]
  },
  {
   "cell_type": "code",
   "execution_count": 11,
   "id": "ade52f9e",
   "metadata": {},
   "outputs": [],
   "source": [
    "def get_others(nation):\n",
    "    if nation != \"Vietnamese\":\n",
    "        nation = \"Others\"\n",
    "    return nation\n",
    "\n",
    "nation_cnt = data['Nationality'].apply(get_others).value_counts()"
   ]
  },
  {
   "cell_type": "code",
   "execution_count": 12,
   "id": "193c2ee8",
   "metadata": {},
   "outputs": [
    {
     "data": {
      "image/png": "[encoded data removed]",
      "text/plain": [
       "<Figure size 720x720 with 1 Axes>"
      ]
     },
     "metadata": {},
     "output_type": "display_data"
    }
   ],
   "source": [
    "plt.figure(figsize= (10,10))\n",
    "plt.pie(x= nation_cnt, colors= [\"#FFBCBC\", \"#FFEACA\"], autopct= \"%.2f%%\", explode= [0, 0.2])\n",
    "plt.title(\"Nationality\", fontsize= 20)\n",
    "plt.legend(labels= nation_cnt.index)\n",
    "plt.show()"
   ]
  },
  {
   "cell_type": "markdown",
   "id": "e52f4f25",
   "metadata": {},
   "source": [
    "**Comment**: \n",
    "- There are 1.24% of foreigners infected by covid-19 in Vietnam\n"
   ]
  },
  {
   "cell_type": "markdown",
   "id": "7d6737cb",
   "metadata": {},
   "source": [
    "<a id =\"7\"></a>\n",
    "#### ***7. How many patients are recovered?***"
   ]
  },
  {
   "cell_type": "code",
   "execution_count": 13,
   "id": "1a2b24de",
   "metadata": {},
   "outputs": [
    {
     "data": {
      "image/png": "[encoded data removed]",
      "text/plain": [
       "<Figure size 1152x360 with 1 Axes>"
      ]
     },
     "metadata": {},
     "output_type": "display_data"
    }
   ],
   "source": [
    "status_cnt = data[\"Status\"].value_counts().sort_values()\n",
    "\n",
    "plt.figure(figsize= (16,5))\n",
    "status_bar = plt.barh(y= status_cnt.index, width= status_cnt, color= \"#FFBCBC\")\n",
    "plt.title(\"Status\", fontsize= 20, loc= \"left\", pad= 25)\n",
    "plt.xlabel(\"Number of Patients\", labelpad=10)\n",
    "\n",
    "\n",
    "for i in range(len(status_bar)):\n",
    "    points = status_bar.patches[i].get_bbox().get_points()\n",
    "    x0, y0, x1, y1 = points[0,0], points[0, 1], points[1,0], points[1,1]\n",
    "    txt_x = x1 - x0\n",
    "    txt_y = (y1 + y0)/2\n",
    "\n",
    "    plt.text(x= txt_x + 300, y=txt_y, s= round(txt_x), ha= \"center\")\n",
    "\n",
    "plt.show()"
   ]
  },
  {
   "cell_type": "markdown",
   "id": "5abd6564",
   "metadata": {},
   "source": [
    "**Comment:**\n",
    "- Around 12000 patients have being treated\n",
    "- About 8000 patients already recovered"
   ]
  },
  {
   "cell_type": "markdown",
   "id": "88f208cd",
   "metadata": {},
   "source": [
    "<a id =\"8\"></a>\n",
    "#### ***8. Which location is infected the most by covid-19 in Vietnam?***"
   ]
  },
  {
   "cell_type": "code",
   "execution_count": 14,
   "id": "e3c4a190",
   "metadata": {
    "scrolled": false
   },
   "outputs": [
    {
     "data": {
      "image/png": "[encoded data removed]",
      "text/plain": [
       "<Figure size 1152x360 with 1 Axes>"
      ]
     },
     "metadata": {},
     "output_type": "display_data"
    }
   ],
   "source": [
    "loc_cnt = data[\"Location\"].value_counts().head(30)\n",
    "\n",
    "plt.figure(figsize= (16,5))\n",
    "plt.bar(x= loc_cnt.index, height= loc_cnt, color= \"#FFBCBC\")\n",
    "plt.plot(loc_cnt.index, loc_cnt, color= \"#DF5E5E\", marker= \"o\")\n",
    "\n",
    "plt.title(\"Location\", loc= \"left\", fontsize= 20, pad= 25)\n",
    "plt.xticks(rotation= 90)\n",
    "plt.ylabel(\"Patients\")\n",
    "plt.show()"
   ]
  },
  {
   "cell_type": "markdown",
   "id": "32a98278",
   "metadata": {},
   "source": [
    "**Comment:**\n",
    "- Ho Chi Minh is in top 1 infected by covid-19\n",
    "- Following that, Bac Giang is in danger with around 6000 patients as well"
   ]
  },
  {
   "cell_type": "markdown",
   "id": "ae502d77",
   "metadata": {},
   "source": [
    "# Thank you!"
   ]
  }
 ],
 "metadata": {
  "kernelspec": {
   "display_name": "Python 3",
   "language": "python",
   "name": "python3"
  },
  "language_info": {
   "codemirror_mode": {
    "name": "ipython",
    "version": 3
   },
   "file_extension": ".py",
   "mimetype": "text/x-python",
   "name": "python",
   "nbconvert_exporter": "python",
   "pygments_lexer": "ipython3",
   "version": "3.8.8"
  },
  "varInspector": {
   "cols": {
    "lenName": 16,
    "lenType": 16,
    "lenVar": 40
   },
   "kernels_config": {
    "python": {
     "delete_cmd_postfix": "",
     "delete_cmd_prefix": "del ",
     "library": "var_list.py",
     "varRefreshCmd": "print(var_dic_list())"
    },
    "r": {
     "delete_cmd_postfix": ") ",
     "delete_cmd_prefix": "rm(",
     "library": "var_list.r",
     "varRefreshCmd": "cat(var_dic_list()) "
    }
   },
   "types_to_exclude": [
    "module",
    "function",
    "builtin_function_or_method",
    "instance",
    "_Feature"
   ],
   "window_display": false
  }
 },
 "nbformat": 4,
 "nbformat_minor": 5
}
